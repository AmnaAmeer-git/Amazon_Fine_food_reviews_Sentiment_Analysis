{
 "cells": [
  {
   "cell_type": "code",
   "execution_count": 1,
   "id": "5aea963d",
   "metadata": {
    "_cell_guid": "b1076dfc-b9ad-4769-8c92-a6c4dae69d19",
    "_uuid": "8f2839f25d086af736a60e9eeb907d3b93b6e0e5",
    "execution": {
     "iopub.execute_input": "2025-05-03T13:03:41.965445Z",
     "iopub.status.busy": "2025-05-03T13:03:41.965186Z",
     "iopub.status.idle": "2025-05-03T13:03:43.420044Z",
     "shell.execute_reply": "2025-05-03T13:03:43.419215Z"
    },
    "papermill": {
     "duration": 1.462784,
     "end_time": "2025-05-03T13:03:43.421240",
     "exception": false,
     "start_time": "2025-05-03T13:03:41.958456",
     "status": "completed"
    },
    "tags": []
   },
   "outputs": [
    {
     "name": "stdout",
     "output_type": "stream",
     "text": [
      "/kaggle/input/amazon-fine-food-reviews/hashes.txt\n",
      "/kaggle/input/amazon-fine-food-reviews/Reviews.csv\n",
      "/kaggle/input/amazon-fine-food-reviews/database.sqlite\n"
     ]
    }
   ],
   "source": [
    "# This Python 3 environment comes with many helpful analytics libraries installed\n",
    "# It is defined by the kaggle/python Docker image: https://github.com/kaggle/docker-python\n",
    "# For example, here's several helpful packages to load\n",
    "\n",
    "import numpy as np # linear algebra\n",
    "import pandas as pd # data processing, CSV file I/O (e.g. pd.read_csv)\n",
    "\n",
    "# Input data files are available in the read-only \"../input/\" directory\n",
    "# For example, running this (by clicking run or pressing Shift+Enter) will list all files under the input directory\n",
    "\n",
    "import os\n",
    "for dirname, _, filenames in os.walk('/kaggle/input'):\n",
    "    for filename in filenames:\n",
    "        print(os.path.join(dirname, filename))\n",
    "\n",
    "# You can write up to 20GB to the current directory (/kaggle/working/) that gets preserved as output when you create a version using \"Save & Run All\" \n",
    "# You can also write temporary files to /kaggle/temp/, but they won't be saved outside of the current session"
   ]
  },
  {
   "cell_type": "code",
   "execution_count": 2,
   "id": "3ed0bff2",
   "metadata": {
    "execution": {
     "iopub.execute_input": "2025-05-03T13:03:43.434475Z",
     "iopub.status.busy": "2025-05-03T13:03:43.433811Z",
     "iopub.status.idle": "2025-05-03T13:03:44.883818Z",
     "shell.execute_reply": "2025-05-03T13:03:44.883268Z"
    },
    "papermill": {
     "duration": 1.458439,
     "end_time": "2025-05-03T13:03:44.885185",
     "exception": false,
     "start_time": "2025-05-03T13:03:43.426746",
     "status": "completed"
    },
    "tags": []
   },
   "outputs": [],
   "source": [
    "import pandas as pd\n",
    "import numpy as np\n",
    "import seaborn as sns\n",
    "import matplotlib.pyplot as plt\n",
    "import warnings\n",
    "warnings.filterwarnings('ignore')"
   ]
  },
  {
   "cell_type": "code",
   "execution_count": 3,
   "id": "29815eb9",
   "metadata": {
    "execution": {
     "iopub.execute_input": "2025-05-03T13:03:44.897716Z",
     "iopub.status.busy": "2025-05-03T13:03:44.897106Z",
     "iopub.status.idle": "2025-05-03T13:03:52.199903Z",
     "shell.execute_reply": "2025-05-03T13:03:52.199133Z"
    },
    "papermill": {
     "duration": 7.310636,
     "end_time": "2025-05-03T13:03:52.201043",
     "exception": false,
     "start_time": "2025-05-03T13:03:44.890407",
     "status": "completed"
    },
    "tags": []
   },
   "outputs": [
    {
     "data": {
      "text/html": [
       "<div>\n",
       "<style scoped>\n",
       "    .dataframe tbody tr th:only-of-type {\n",
       "        vertical-align: middle;\n",
       "    }\n",
       "\n",
       "    .dataframe tbody tr th {\n",
       "        vertical-align: top;\n",
       "    }\n",
       "\n",
       "    .dataframe thead th {\n",
       "        text-align: right;\n",
       "    }\n",
       "</style>\n",
       "<table border=\"1\" class=\"dataframe\">\n",
       "  <thead>\n",
       "    <tr style=\"text-align: right;\">\n",
       "      <th></th>\n",
       "      <th>Id</th>\n",
       "      <th>ProductId</th>\n",
       "      <th>UserId</th>\n",
       "      <th>ProfileName</th>\n",
       "      <th>HelpfulnessNumerator</th>\n",
       "      <th>HelpfulnessDenominator</th>\n",
       "      <th>Score</th>\n",
       "      <th>Time</th>\n",
       "      <th>Summary</th>\n",
       "      <th>Text</th>\n",
       "    </tr>\n",
       "  </thead>\n",
       "  <tbody>\n",
       "    <tr>\n",
       "      <th>0</th>\n",
       "      <td>1</td>\n",
       "      <td>B001E4KFG0</td>\n",
       "      <td>A3SGXH7AUHU8GW</td>\n",
       "      <td>delmartian</td>\n",
       "      <td>1</td>\n",
       "      <td>1</td>\n",
       "      <td>5</td>\n",
       "      <td>1303862400</td>\n",
       "      <td>Good Quality Dog Food</td>\n",
       "      <td>I have bought several of the Vitality canned d...</td>\n",
       "    </tr>\n",
       "    <tr>\n",
       "      <th>1</th>\n",
       "      <td>2</td>\n",
       "      <td>B00813GRG4</td>\n",
       "      <td>A1D87F6ZCVE5NK</td>\n",
       "      <td>dll pa</td>\n",
       "      <td>0</td>\n",
       "      <td>0</td>\n",
       "      <td>1</td>\n",
       "      <td>1346976000</td>\n",
       "      <td>Not as Advertised</td>\n",
       "      <td>Product arrived labeled as Jumbo Salted Peanut...</td>\n",
       "    </tr>\n",
       "    <tr>\n",
       "      <th>2</th>\n",
       "      <td>3</td>\n",
       "      <td>B000LQOCH0</td>\n",
       "      <td>ABXLMWJIXXAIN</td>\n",
       "      <td>Natalia Corres \"Natalia Corres\"</td>\n",
       "      <td>1</td>\n",
       "      <td>1</td>\n",
       "      <td>4</td>\n",
       "      <td>1219017600</td>\n",
       "      <td>\"Delight\" says it all</td>\n",
       "      <td>This is a confection that has been around a fe...</td>\n",
       "    </tr>\n",
       "    <tr>\n",
       "      <th>3</th>\n",
       "      <td>4</td>\n",
       "      <td>B000UA0QIQ</td>\n",
       "      <td>A395BORC6FGVXV</td>\n",
       "      <td>Karl</td>\n",
       "      <td>3</td>\n",
       "      <td>3</td>\n",
       "      <td>2</td>\n",
       "      <td>1307923200</td>\n",
       "      <td>Cough Medicine</td>\n",
       "      <td>If you are looking for the secret ingredient i...</td>\n",
       "    </tr>\n",
       "    <tr>\n",
       "      <th>4</th>\n",
       "      <td>5</td>\n",
       "      <td>B006K2ZZ7K</td>\n",
       "      <td>A1UQRSCLF8GW1T</td>\n",
       "      <td>Michael D. Bigham \"M. Wassir\"</td>\n",
       "      <td>0</td>\n",
       "      <td>0</td>\n",
       "      <td>5</td>\n",
       "      <td>1350777600</td>\n",
       "      <td>Great taffy</td>\n",
       "      <td>Great taffy at a great price.  There was a wid...</td>\n",
       "    </tr>\n",
       "    <tr>\n",
       "      <th>...</th>\n",
       "      <td>...</td>\n",
       "      <td>...</td>\n",
       "      <td>...</td>\n",
       "      <td>...</td>\n",
       "      <td>...</td>\n",
       "      <td>...</td>\n",
       "      <td>...</td>\n",
       "      <td>...</td>\n",
       "      <td>...</td>\n",
       "      <td>...</td>\n",
       "    </tr>\n",
       "    <tr>\n",
       "      <th>568449</th>\n",
       "      <td>568450</td>\n",
       "      <td>B001EO7N10</td>\n",
       "      <td>A28KG5XORO54AY</td>\n",
       "      <td>Lettie D. Carter</td>\n",
       "      <td>0</td>\n",
       "      <td>0</td>\n",
       "      <td>5</td>\n",
       "      <td>1299628800</td>\n",
       "      <td>Will not do without</td>\n",
       "      <td>Great for sesame chicken..this is a good if no...</td>\n",
       "    </tr>\n",
       "    <tr>\n",
       "      <th>568450</th>\n",
       "      <td>568451</td>\n",
       "      <td>B003S1WTCU</td>\n",
       "      <td>A3I8AFVPEE8KI5</td>\n",
       "      <td>R. Sawyer</td>\n",
       "      <td>0</td>\n",
       "      <td>0</td>\n",
       "      <td>2</td>\n",
       "      <td>1331251200</td>\n",
       "      <td>disappointed</td>\n",
       "      <td>I'm disappointed with the flavor. The chocolat...</td>\n",
       "    </tr>\n",
       "    <tr>\n",
       "      <th>568451</th>\n",
       "      <td>568452</td>\n",
       "      <td>B004I613EE</td>\n",
       "      <td>A121AA1GQV751Z</td>\n",
       "      <td>pksd \"pk_007\"</td>\n",
       "      <td>2</td>\n",
       "      <td>2</td>\n",
       "      <td>5</td>\n",
       "      <td>1329782400</td>\n",
       "      <td>Perfect for our maltipoo</td>\n",
       "      <td>These stars are small, so you can give 10-15 o...</td>\n",
       "    </tr>\n",
       "    <tr>\n",
       "      <th>568452</th>\n",
       "      <td>568453</td>\n",
       "      <td>B004I613EE</td>\n",
       "      <td>A3IBEVCTXKNOH</td>\n",
       "      <td>Kathy A. Welch \"katwel\"</td>\n",
       "      <td>1</td>\n",
       "      <td>1</td>\n",
       "      <td>5</td>\n",
       "      <td>1331596800</td>\n",
       "      <td>Favorite Training and reward treat</td>\n",
       "      <td>These are the BEST treats for training and rew...</td>\n",
       "    </tr>\n",
       "    <tr>\n",
       "      <th>568453</th>\n",
       "      <td>568454</td>\n",
       "      <td>B001LR2CU2</td>\n",
       "      <td>A3LGQPJCZVL9UC</td>\n",
       "      <td>srfell17</td>\n",
       "      <td>0</td>\n",
       "      <td>0</td>\n",
       "      <td>5</td>\n",
       "      <td>1338422400</td>\n",
       "      <td>Great Honey</td>\n",
       "      <td>I am very satisfied ,product is as advertised,...</td>\n",
       "    </tr>\n",
       "  </tbody>\n",
       "</table>\n",
       "<p>568454 rows × 10 columns</p>\n",
       "</div>"
      ],
      "text/plain": [
       "            Id   ProductId          UserId                      ProfileName  \\\n",
       "0            1  B001E4KFG0  A3SGXH7AUHU8GW                       delmartian   \n",
       "1            2  B00813GRG4  A1D87F6ZCVE5NK                           dll pa   \n",
       "2            3  B000LQOCH0   ABXLMWJIXXAIN  Natalia Corres \"Natalia Corres\"   \n",
       "3            4  B000UA0QIQ  A395BORC6FGVXV                             Karl   \n",
       "4            5  B006K2ZZ7K  A1UQRSCLF8GW1T    Michael D. Bigham \"M. Wassir\"   \n",
       "...        ...         ...             ...                              ...   \n",
       "568449  568450  B001EO7N10  A28KG5XORO54AY                 Lettie D. Carter   \n",
       "568450  568451  B003S1WTCU  A3I8AFVPEE8KI5                        R. Sawyer   \n",
       "568451  568452  B004I613EE  A121AA1GQV751Z                    pksd \"pk_007\"   \n",
       "568452  568453  B004I613EE   A3IBEVCTXKNOH          Kathy A. Welch \"katwel\"   \n",
       "568453  568454  B001LR2CU2  A3LGQPJCZVL9UC                         srfell17   \n",
       "\n",
       "        HelpfulnessNumerator  HelpfulnessDenominator  Score        Time  \\\n",
       "0                          1                       1      5  1303862400   \n",
       "1                          0                       0      1  1346976000   \n",
       "2                          1                       1      4  1219017600   \n",
       "3                          3                       3      2  1307923200   \n",
       "4                          0                       0      5  1350777600   \n",
       "...                      ...                     ...    ...         ...   \n",
       "568449                     0                       0      5  1299628800   \n",
       "568450                     0                       0      2  1331251200   \n",
       "568451                     2                       2      5  1329782400   \n",
       "568452                     1                       1      5  1331596800   \n",
       "568453                     0                       0      5  1338422400   \n",
       "\n",
       "                                   Summary  \\\n",
       "0                    Good Quality Dog Food   \n",
       "1                        Not as Advertised   \n",
       "2                    \"Delight\" says it all   \n",
       "3                           Cough Medicine   \n",
       "4                              Great taffy   \n",
       "...                                    ...   \n",
       "568449                 Will not do without   \n",
       "568450                        disappointed   \n",
       "568451            Perfect for our maltipoo   \n",
       "568452  Favorite Training and reward treat   \n",
       "568453                         Great Honey   \n",
       "\n",
       "                                                     Text  \n",
       "0       I have bought several of the Vitality canned d...  \n",
       "1       Product arrived labeled as Jumbo Salted Peanut...  \n",
       "2       This is a confection that has been around a fe...  \n",
       "3       If you are looking for the secret ingredient i...  \n",
       "4       Great taffy at a great price.  There was a wid...  \n",
       "...                                                   ...  \n",
       "568449  Great for sesame chicken..this is a good if no...  \n",
       "568450  I'm disappointed with the flavor. The chocolat...  \n",
       "568451  These stars are small, so you can give 10-15 o...  \n",
       "568452  These are the BEST treats for training and rew...  \n",
       "568453  I am very satisfied ,product is as advertised,...  \n",
       "\n",
       "[568454 rows x 10 columns]"
      ]
     },
     "execution_count": 3,
     "metadata": {},
     "output_type": "execute_result"
    }
   ],
   "source": [
    "df = pd.read_csv('/kaggle/input/amazon-fine-food-reviews/Reviews.csv')\n",
    "df"
   ]
  },
  {
   "cell_type": "code",
   "execution_count": 4,
   "id": "c65cf7d8",
   "metadata": {
    "execution": {
     "iopub.execute_input": "2025-05-03T13:03:52.212874Z",
     "iopub.status.busy": "2025-05-03T13:03:52.212654Z",
     "iopub.status.idle": "2025-05-03T13:03:52.217474Z",
     "shell.execute_reply": "2025-05-03T13:03:52.216973Z"
    },
    "papermill": {
     "duration": 0.011623,
     "end_time": "2025-05-03T13:03:52.218502",
     "exception": false,
     "start_time": "2025-05-03T13:03:52.206879",
     "status": "completed"
    },
    "tags": []
   },
   "outputs": [
    {
     "data": {
      "text/plain": [
       "Id                         int64\n",
       "ProductId                 object\n",
       "UserId                    object\n",
       "ProfileName               object\n",
       "HelpfulnessNumerator       int64\n",
       "HelpfulnessDenominator     int64\n",
       "Score                      int64\n",
       "Time                       int64\n",
       "Summary                   object\n",
       "Text                      object\n",
       "dtype: object"
      ]
     },
     "execution_count": 4,
     "metadata": {},
     "output_type": "execute_result"
    }
   ],
   "source": [
    "df.dtypes"
   ]
  },
  {
   "cell_type": "code",
   "execution_count": 5,
   "id": "f11a342d",
   "metadata": {
    "execution": {
     "iopub.execute_input": "2025-05-03T13:03:52.229879Z",
     "iopub.status.busy": "2025-05-03T13:03:52.229673Z",
     "iopub.status.idle": "2025-05-03T13:03:52.305065Z",
     "shell.execute_reply": "2025-05-03T13:03:52.304445Z"
    },
    "papermill": {
     "duration": 0.082372,
     "end_time": "2025-05-03T13:03:52.306273",
     "exception": false,
     "start_time": "2025-05-03T13:03:52.223901",
     "status": "completed"
    },
    "tags": []
   },
   "outputs": [
    {
     "data": {
      "text/html": [
       "<div>\n",
       "<style scoped>\n",
       "    .dataframe tbody tr th:only-of-type {\n",
       "        vertical-align: middle;\n",
       "    }\n",
       "\n",
       "    .dataframe tbody tr th {\n",
       "        vertical-align: top;\n",
       "    }\n",
       "\n",
       "    .dataframe thead th {\n",
       "        text-align: right;\n",
       "    }\n",
       "</style>\n",
       "<table border=\"1\" class=\"dataframe\">\n",
       "  <thead>\n",
       "    <tr style=\"text-align: right;\">\n",
       "      <th></th>\n",
       "      <th>Id</th>\n",
       "      <th>HelpfulnessNumerator</th>\n",
       "      <th>HelpfulnessDenominator</th>\n",
       "      <th>Score</th>\n",
       "      <th>Time</th>\n",
       "    </tr>\n",
       "  </thead>\n",
       "  <tbody>\n",
       "    <tr>\n",
       "      <th>count</th>\n",
       "      <td>568454.000000</td>\n",
       "      <td>568454.000000</td>\n",
       "      <td>568454.00000</td>\n",
       "      <td>568454.000000</td>\n",
       "      <td>5.684540e+05</td>\n",
       "    </tr>\n",
       "    <tr>\n",
       "      <th>mean</th>\n",
       "      <td>284227.500000</td>\n",
       "      <td>1.743817</td>\n",
       "      <td>2.22881</td>\n",
       "      <td>4.183199</td>\n",
       "      <td>1.296257e+09</td>\n",
       "    </tr>\n",
       "    <tr>\n",
       "      <th>std</th>\n",
       "      <td>164098.679298</td>\n",
       "      <td>7.636513</td>\n",
       "      <td>8.28974</td>\n",
       "      <td>1.310436</td>\n",
       "      <td>4.804331e+07</td>\n",
       "    </tr>\n",
       "    <tr>\n",
       "      <th>min</th>\n",
       "      <td>1.000000</td>\n",
       "      <td>0.000000</td>\n",
       "      <td>0.00000</td>\n",
       "      <td>1.000000</td>\n",
       "      <td>9.393408e+08</td>\n",
       "    </tr>\n",
       "    <tr>\n",
       "      <th>25%</th>\n",
       "      <td>142114.250000</td>\n",
       "      <td>0.000000</td>\n",
       "      <td>0.00000</td>\n",
       "      <td>4.000000</td>\n",
       "      <td>1.271290e+09</td>\n",
       "    </tr>\n",
       "    <tr>\n",
       "      <th>50%</th>\n",
       "      <td>284227.500000</td>\n",
       "      <td>0.000000</td>\n",
       "      <td>1.00000</td>\n",
       "      <td>5.000000</td>\n",
       "      <td>1.311120e+09</td>\n",
       "    </tr>\n",
       "    <tr>\n",
       "      <th>75%</th>\n",
       "      <td>426340.750000</td>\n",
       "      <td>2.000000</td>\n",
       "      <td>2.00000</td>\n",
       "      <td>5.000000</td>\n",
       "      <td>1.332720e+09</td>\n",
       "    </tr>\n",
       "    <tr>\n",
       "      <th>max</th>\n",
       "      <td>568454.000000</td>\n",
       "      <td>866.000000</td>\n",
       "      <td>923.00000</td>\n",
       "      <td>5.000000</td>\n",
       "      <td>1.351210e+09</td>\n",
       "    </tr>\n",
       "  </tbody>\n",
       "</table>\n",
       "</div>"
      ],
      "text/plain": [
       "                  Id  HelpfulnessNumerator  HelpfulnessDenominator  \\\n",
       "count  568454.000000         568454.000000            568454.00000   \n",
       "mean   284227.500000              1.743817                 2.22881   \n",
       "std    164098.679298              7.636513                 8.28974   \n",
       "min         1.000000              0.000000                 0.00000   \n",
       "25%    142114.250000              0.000000                 0.00000   \n",
       "50%    284227.500000              0.000000                 1.00000   \n",
       "75%    426340.750000              2.000000                 2.00000   \n",
       "max    568454.000000            866.000000               923.00000   \n",
       "\n",
       "               Score          Time  \n",
       "count  568454.000000  5.684540e+05  \n",
       "mean        4.183199  1.296257e+09  \n",
       "std         1.310436  4.804331e+07  \n",
       "min         1.000000  9.393408e+08  \n",
       "25%         4.000000  1.271290e+09  \n",
       "50%         5.000000  1.311120e+09  \n",
       "75%         5.000000  1.332720e+09  \n",
       "max         5.000000  1.351210e+09  "
      ]
     },
     "execution_count": 5,
     "metadata": {},
     "output_type": "execute_result"
    }
   ],
   "source": [
    "df.describe()"
   ]
  },
  {
   "cell_type": "code",
   "execution_count": 6,
   "id": "f0075ed8",
   "metadata": {
    "execution": {
     "iopub.execute_input": "2025-05-03T13:03:52.317961Z",
     "iopub.status.busy": "2025-05-03T13:03:52.317748Z",
     "iopub.status.idle": "2025-05-03T13:03:52.500309Z",
     "shell.execute_reply": "2025-05-03T13:03:52.499416Z"
    },
    "papermill": {
     "duration": 0.189776,
     "end_time": "2025-05-03T13:03:52.501584",
     "exception": false,
     "start_time": "2025-05-03T13:03:52.311808",
     "status": "completed"
    },
    "tags": []
   },
   "outputs": [
    {
     "name": "stdout",
     "output_type": "stream",
     "text": [
      "<class 'pandas.core.frame.DataFrame'>\n",
      "RangeIndex: 568454 entries, 0 to 568453\n",
      "Data columns (total 10 columns):\n",
      " #   Column                  Non-Null Count   Dtype \n",
      "---  ------                  --------------   ----- \n",
      " 0   Id                      568454 non-null  int64 \n",
      " 1   ProductId               568454 non-null  object\n",
      " 2   UserId                  568454 non-null  object\n",
      " 3   ProfileName             568428 non-null  object\n",
      " 4   HelpfulnessNumerator    568454 non-null  int64 \n",
      " 5   HelpfulnessDenominator  568454 non-null  int64 \n",
      " 6   Score                   568454 non-null  int64 \n",
      " 7   Time                    568454 non-null  int64 \n",
      " 8   Summary                 568427 non-null  object\n",
      " 9   Text                    568454 non-null  object\n",
      "dtypes: int64(5), object(5)\n",
      "memory usage: 43.4+ MB\n"
     ]
    }
   ],
   "source": [
    "df.info()"
   ]
  },
  {
   "cell_type": "code",
   "execution_count": 7,
   "id": "753fce89",
   "metadata": {
    "execution": {
     "iopub.execute_input": "2025-05-03T13:03:52.513702Z",
     "iopub.status.busy": "2025-05-03T13:03:52.513480Z",
     "iopub.status.idle": "2025-05-03T13:03:52.518002Z",
     "shell.execute_reply": "2025-05-03T13:03:52.517476Z"
    },
    "papermill": {
     "duration": 0.011525,
     "end_time": "2025-05-03T13:03:52.518980",
     "exception": false,
     "start_time": "2025-05-03T13:03:52.507455",
     "status": "completed"
    },
    "tags": []
   },
   "outputs": [
    {
     "data": {
      "text/plain": [
       "Index(['Id', 'ProductId', 'UserId', 'ProfileName', 'HelpfulnessNumerator',\n",
       "       'HelpfulnessDenominator', 'Score', 'Time', 'Summary', 'Text'],\n",
       "      dtype='object')"
      ]
     },
     "execution_count": 7,
     "metadata": {},
     "output_type": "execute_result"
    }
   ],
   "source": [
    "df.columns"
   ]
  },
  {
   "cell_type": "code",
   "execution_count": 8,
   "id": "2a800b78",
   "metadata": {
    "execution": {
     "iopub.execute_input": "2025-05-03T13:03:52.530338Z",
     "iopub.status.busy": "2025-05-03T13:03:52.530134Z",
     "iopub.status.idle": "2025-05-03T13:03:52.549312Z",
     "shell.execute_reply": "2025-05-03T13:03:52.548811Z"
    },
    "papermill": {
     "duration": 0.026035,
     "end_time": "2025-05-03T13:03:52.550366",
     "exception": false,
     "start_time": "2025-05-03T13:03:52.524331",
     "status": "completed"
    },
    "tags": []
   },
   "outputs": [
    {
     "data": {
      "text/html": [
       "<div>\n",
       "<style scoped>\n",
       "    .dataframe tbody tr th:only-of-type {\n",
       "        vertical-align: middle;\n",
       "    }\n",
       "\n",
       "    .dataframe tbody tr th {\n",
       "        vertical-align: top;\n",
       "    }\n",
       "\n",
       "    .dataframe thead th {\n",
       "        text-align: right;\n",
       "    }\n",
       "</style>\n",
       "<table border=\"1\" class=\"dataframe\">\n",
       "  <thead>\n",
       "    <tr style=\"text-align: right;\">\n",
       "      <th></th>\n",
       "      <th>Score</th>\n",
       "      <th>Text</th>\n",
       "    </tr>\n",
       "  </thead>\n",
       "  <tbody>\n",
       "    <tr>\n",
       "      <th>0</th>\n",
       "      <td>5</td>\n",
       "      <td>I have bought several of the Vitality canned d...</td>\n",
       "    </tr>\n",
       "    <tr>\n",
       "      <th>1</th>\n",
       "      <td>1</td>\n",
       "      <td>Product arrived labeled as Jumbo Salted Peanut...</td>\n",
       "    </tr>\n",
       "    <tr>\n",
       "      <th>2</th>\n",
       "      <td>4</td>\n",
       "      <td>This is a confection that has been around a fe...</td>\n",
       "    </tr>\n",
       "    <tr>\n",
       "      <th>3</th>\n",
       "      <td>2</td>\n",
       "      <td>If you are looking for the secret ingredient i...</td>\n",
       "    </tr>\n",
       "    <tr>\n",
       "      <th>4</th>\n",
       "      <td>5</td>\n",
       "      <td>Great taffy at a great price.  There was a wid...</td>\n",
       "    </tr>\n",
       "    <tr>\n",
       "      <th>...</th>\n",
       "      <td>...</td>\n",
       "      <td>...</td>\n",
       "    </tr>\n",
       "    <tr>\n",
       "      <th>568449</th>\n",
       "      <td>5</td>\n",
       "      <td>Great for sesame chicken..this is a good if no...</td>\n",
       "    </tr>\n",
       "    <tr>\n",
       "      <th>568450</th>\n",
       "      <td>2</td>\n",
       "      <td>I'm disappointed with the flavor. The chocolat...</td>\n",
       "    </tr>\n",
       "    <tr>\n",
       "      <th>568451</th>\n",
       "      <td>5</td>\n",
       "      <td>These stars are small, so you can give 10-15 o...</td>\n",
       "    </tr>\n",
       "    <tr>\n",
       "      <th>568452</th>\n",
       "      <td>5</td>\n",
       "      <td>These are the BEST treats for training and rew...</td>\n",
       "    </tr>\n",
       "    <tr>\n",
       "      <th>568453</th>\n",
       "      <td>5</td>\n",
       "      <td>I am very satisfied ,product is as advertised,...</td>\n",
       "    </tr>\n",
       "  </tbody>\n",
       "</table>\n",
       "<p>568454 rows × 2 columns</p>\n",
       "</div>"
      ],
      "text/plain": [
       "        Score                                               Text\n",
       "0           5  I have bought several of the Vitality canned d...\n",
       "1           1  Product arrived labeled as Jumbo Salted Peanut...\n",
       "2           4  This is a confection that has been around a fe...\n",
       "3           2  If you are looking for the secret ingredient i...\n",
       "4           5  Great taffy at a great price.  There was a wid...\n",
       "...       ...                                                ...\n",
       "568449      5  Great for sesame chicken..this is a good if no...\n",
       "568450      2  I'm disappointed with the flavor. The chocolat...\n",
       "568451      5  These stars are small, so you can give 10-15 o...\n",
       "568452      5  These are the BEST treats for training and rew...\n",
       "568453      5  I am very satisfied ,product is as advertised,...\n",
       "\n",
       "[568454 rows x 2 columns]"
      ]
     },
     "execution_count": 8,
     "metadata": {},
     "output_type": "execute_result"
    }
   ],
   "source": [
    "df = df[['Score','Text']]\n",
    "df"
   ]
  },
  {
   "cell_type": "code",
   "execution_count": 9,
   "id": "5da2d83c",
   "metadata": {
    "execution": {
     "iopub.execute_input": "2025-05-03T13:03:52.562581Z",
     "iopub.status.busy": "2025-05-03T13:03:52.562120Z",
     "iopub.status.idle": "2025-05-03T13:03:52.773493Z",
     "shell.execute_reply": "2025-05-03T13:03:52.772744Z"
    },
    "papermill": {
     "duration": 0.21862,
     "end_time": "2025-05-03T13:03:52.774572",
     "exception": false,
     "start_time": "2025-05-03T13:03:52.555952",
     "status": "completed"
    },
    "tags": []
   },
   "outputs": [
    {
     "data": {
      "image/png": "[encoded data removed]",
      "text/plain": [
       "<Figure size 640x480 with 1 Axes>"
      ]
     },
     "metadata": {},
     "output_type": "display_data"
    }
   ],
   "source": [
    "sns.countplot(data=df,x='Score')\n",
    "plt.show()"
   ]
  },
  {
   "cell_type": "code",
   "execution_count": 10,
   "id": "e59ac820",
   "metadata": {
    "execution": {
     "iopub.execute_input": "2025-05-03T13:03:52.787510Z",
     "iopub.status.busy": "2025-05-03T13:03:52.787096Z",
     "iopub.status.idle": "2025-05-03T13:03:52.872125Z",
     "shell.execute_reply": "2025-05-03T13:03:52.871560Z"
    },
    "papermill": {
     "duration": 0.092835,
     "end_time": "2025-05-03T13:03:52.873437",
     "exception": false,
     "start_time": "2025-05-03T13:03:52.780602",
     "status": "completed"
    },
    "tags": []
   },
   "outputs": [],
   "source": [
    "condidtions = [\n",
    "    df.Score >= 4,\n",
    "    df.Score == 3,\n",
    "    df.Score <=2,\n",
    "]\n",
    "values = ['Positive','Neutral','Negative']\n",
    "\n",
    "df['Score'] = np.select(condidtions, values)"
   ]
  },
  {
   "cell_type": "code",
   "execution_count": 11,
   "id": "94d21ac8",
   "metadata": {
    "execution": {
     "iopub.execute_input": "2025-05-03T13:03:52.886265Z",
     "iopub.status.busy": "2025-05-03T13:03:52.886049Z",
     "iopub.status.idle": "2025-05-03T13:03:52.893827Z",
     "shell.execute_reply": "2025-05-03T13:03:52.893095Z"
    },
    "papermill": {
     "duration": 0.015543,
     "end_time": "2025-05-03T13:03:52.895023",
     "exception": false,
     "start_time": "2025-05-03T13:03:52.879480",
     "status": "completed"
    },
    "tags": []
   },
   "outputs": [
    {
     "data": {
      "text/html": [
       "<div>\n",
       "<style scoped>\n",
       "    .dataframe tbody tr th:only-of-type {\n",
       "        vertical-align: middle;\n",
       "    }\n",
       "\n",
       "    .dataframe tbody tr th {\n",
       "        vertical-align: top;\n",
       "    }\n",
       "\n",
       "    .dataframe thead th {\n",
       "        text-align: right;\n",
       "    }\n",
       "</style>\n",
       "<table border=\"1\" class=\"dataframe\">\n",
       "  <thead>\n",
       "    <tr style=\"text-align: right;\">\n",
       "      <th></th>\n",
       "      <th>Score</th>\n",
       "      <th>Text</th>\n",
       "    </tr>\n",
       "  </thead>\n",
       "  <tbody>\n",
       "    <tr>\n",
       "      <th>0</th>\n",
       "      <td>Positive</td>\n",
       "      <td>I have bought several of the Vitality canned d...</td>\n",
       "    </tr>\n",
       "    <tr>\n",
       "      <th>1</th>\n",
       "      <td>Negative</td>\n",
       "      <td>Product arrived labeled as Jumbo Salted Peanut...</td>\n",
       "    </tr>\n",
       "    <tr>\n",
       "      <th>2</th>\n",
       "      <td>Positive</td>\n",
       "      <td>This is a confection that has been around a fe...</td>\n",
       "    </tr>\n",
       "    <tr>\n",
       "      <th>3</th>\n",
       "      <td>Negative</td>\n",
       "      <td>If you are looking for the secret ingredient i...</td>\n",
       "    </tr>\n",
       "    <tr>\n",
       "      <th>4</th>\n",
       "      <td>Positive</td>\n",
       "      <td>Great taffy at a great price.  There was a wid...</td>\n",
       "    </tr>\n",
       "    <tr>\n",
       "      <th>...</th>\n",
       "      <td>...</td>\n",
       "      <td>...</td>\n",
       "    </tr>\n",
       "    <tr>\n",
       "      <th>568449</th>\n",
       "      <td>Positive</td>\n",
       "      <td>Great for sesame chicken..this is a good if no...</td>\n",
       "    </tr>\n",
       "    <tr>\n",
       "      <th>568450</th>\n",
       "      <td>Negative</td>\n",
       "      <td>I'm disappointed with the flavor. The chocolat...</td>\n",
       "    </tr>\n",
       "    <tr>\n",
       "      <th>568451</th>\n",
       "      <td>Positive</td>\n",
       "      <td>These stars are small, so you can give 10-15 o...</td>\n",
       "    </tr>\n",
       "    <tr>\n",
       "      <th>568452</th>\n",
       "      <td>Positive</td>\n",
       "      <td>These are the BEST treats for training and rew...</td>\n",
       "    </tr>\n",
       "    <tr>\n",
       "      <th>568453</th>\n",
       "      <td>Positive</td>\n",
       "      <td>I am very satisfied ,product is as advertised,...</td>\n",
       "    </tr>\n",
       "  </tbody>\n",
       "</table>\n",
       "<p>568454 rows × 2 columns</p>\n",
       "</div>"
      ],
      "text/plain": [
       "           Score                                               Text\n",
       "0       Positive  I have bought several of the Vitality canned d...\n",
       "1       Negative  Product arrived labeled as Jumbo Salted Peanut...\n",
       "2       Positive  This is a confection that has been around a fe...\n",
       "3       Negative  If you are looking for the secret ingredient i...\n",
       "4       Positive  Great taffy at a great price.  There was a wid...\n",
       "...          ...                                                ...\n",
       "568449  Positive  Great for sesame chicken..this is a good if no...\n",
       "568450  Negative  I'm disappointed with the flavor. The chocolat...\n",
       "568451  Positive  These stars are small, so you can give 10-15 o...\n",
       "568452  Positive  These are the BEST treats for training and rew...\n",
       "568453  Positive  I am very satisfied ,product is as advertised,...\n",
       "\n",
       "[568454 rows x 2 columns]"
      ]
     },
     "execution_count": 11,
     "metadata": {},
     "output_type": "execute_result"
    }
   ],
   "source": [
    "df"
   ]
  },
  {
   "cell_type": "code",
   "execution_count": 12,
   "id": "5287f1e4",
   "metadata": {
    "execution": {
     "iopub.execute_input": "2025-05-03T13:03:52.908032Z",
     "iopub.status.busy": "2025-05-03T13:03:52.907851Z",
     "iopub.status.idle": "2025-05-03T13:03:53.254791Z",
     "shell.execute_reply": "2025-05-03T13:03:53.254088Z"
    },
    "papermill": {
     "duration": 0.354643,
     "end_time": "2025-05-03T13:03:53.255886",
     "exception": false,
     "start_time": "2025-05-03T13:03:52.901243",
     "status": "completed"
    },
    "tags": []
   },
   "outputs": [
    {
     "data": {
      "image/png": "[encoded data removed]",
      "text/plain": [
       "<Figure size 640x480 with 1 Axes>"
      ]
     },
     "metadata": {},
     "output_type": "display_data"
    }
   ],
   "source": [
    "sns.countplot(data=df,x='Score')\n",
    "plt.show()"
   ]
  },
  {
   "cell_type": "code",
   "execution_count": 13,
   "id": "02b7e20f",
   "metadata": {
    "execution": {
     "iopub.execute_input": "2025-05-03T13:03:53.269761Z",
     "iopub.status.busy": "2025-05-03T13:03:53.269302Z",
     "iopub.status.idle": "2025-05-03T13:03:54.175547Z",
     "shell.execute_reply": "2025-05-03T13:03:54.174856Z"
    },
    "papermill": {
     "duration": 0.914421,
     "end_time": "2025-05-03T13:03:54.176809",
     "exception": false,
     "start_time": "2025-05-03T13:03:53.262388",
     "status": "completed"
    },
    "tags": []
   },
   "outputs": [
    {
     "name": "stderr",
     "output_type": "stream",
     "text": [
      "[nltk_data] Downloading package stopwords to /usr/share/nltk_data...\n",
      "[nltk_data]   Package stopwords is already up-to-date!\n"
     ]
    },
    {
     "data": {
      "text/plain": [
       "['a',\n",
       " 'about',\n",
       " 'above',\n",
       " 'after',\n",
       " 'again',\n",
       " 'against',\n",
       " 'ain',\n",
       " 'all',\n",
       " 'am',\n",
       " 'an',\n",
       " 'and',\n",
       " 'any',\n",
       " 'are',\n",
       " 'aren',\n",
       " \"aren't\",\n",
       " 'as',\n",
       " 'at',\n",
       " 'be',\n",
       " 'because',\n",
       " 'been',\n",
       " 'before',\n",
       " 'being',\n",
       " 'below',\n",
       " 'between',\n",
       " 'both',\n",
       " 'but',\n",
       " 'by',\n",
       " 'can',\n",
       " 'couldn',\n",
       " \"couldn't\",\n",
       " 'd',\n",
       " 'did',\n",
       " 'didn',\n",
       " \"didn't\",\n",
       " 'do',\n",
       " 'does',\n",
       " 'doesn',\n",
       " \"doesn't\",\n",
       " 'doing',\n",
       " 'don',\n",
       " \"don't\",\n",
       " 'down',\n",
       " 'during',\n",
       " 'each',\n",
       " 'few',\n",
       " 'for',\n",
       " 'from',\n",
       " 'further',\n",
       " 'had',\n",
       " 'hadn',\n",
       " \"hadn't\",\n",
       " 'has',\n",
       " 'hasn',\n",
       " \"hasn't\",\n",
       " 'have',\n",
       " 'haven',\n",
       " \"haven't\",\n",
       " 'having',\n",
       " 'he',\n",
       " \"he'd\",\n",
       " \"he'll\",\n",
       " 'her',\n",
       " 'here',\n",
       " 'hers',\n",
       " 'herself',\n",
       " \"he's\",\n",
       " 'him',\n",
       " 'himself',\n",
       " 'his',\n",
       " 'how',\n",
       " 'i',\n",
       " \"i'd\",\n",
       " 'if',\n",
       " \"i'll\",\n",
       " \"i'm\",\n",
       " 'in',\n",
       " 'into',\n",
       " 'is',\n",
       " 'isn',\n",
       " \"isn't\",\n",
       " 'it',\n",
       " \"it'd\",\n",
       " \"it'll\",\n",
       " \"it's\",\n",
       " 'its',\n",
       " 'itself',\n",
       " \"i've\",\n",
       " 'just',\n",
       " 'll',\n",
       " 'm',\n",
       " 'ma',\n",
       " 'me',\n",
       " 'mightn',\n",
       " \"mightn't\",\n",
       " 'more',\n",
       " 'most',\n",
       " 'mustn',\n",
       " \"mustn't\",\n",
       " 'my',\n",
       " 'myself',\n",
       " 'needn',\n",
       " \"needn't\",\n",
       " 'no',\n",
       " 'nor',\n",
       " 'not',\n",
       " 'now',\n",
       " 'o',\n",
       " 'of',\n",
       " 'off',\n",
       " 'on',\n",
       " 'once',\n",
       " 'only',\n",
       " 'or',\n",
       " 'other',\n",
       " 'our',\n",
       " 'ours',\n",
       " 'ourselves',\n",
       " 'out',\n",
       " 'over',\n",
       " 'own',\n",
       " 're',\n",
       " 's',\n",
       " 'same',\n",
       " 'shan',\n",
       " \"shan't\",\n",
       " 'she',\n",
       " \"she'd\",\n",
       " \"she'll\",\n",
       " \"she's\",\n",
       " 'should',\n",
       " 'shouldn',\n",
       " \"shouldn't\",\n",
       " \"should've\",\n",
       " 'so',\n",
       " 'some',\n",
       " 'such',\n",
       " 't',\n",
       " 'than',\n",
       " 'that',\n",
       " \"that'll\",\n",
       " 'the',\n",
       " 'their',\n",
       " 'theirs',\n",
       " 'them',\n",
       " 'themselves',\n",
       " 'then',\n",
       " 'there',\n",
       " 'these',\n",
       " 'they',\n",
       " \"they'd\",\n",
       " \"they'll\",\n",
       " \"they're\",\n",
       " \"they've\",\n",
       " 'this',\n",
       " 'those',\n",
       " 'through',\n",
       " 'to',\n",
       " 'too',\n",
       " 'under',\n",
       " 'until',\n",
       " 'up',\n",
       " 've',\n",
       " 'very',\n",
       " 'was',\n",
       " 'wasn',\n",
       " \"wasn't\",\n",
       " 'we',\n",
       " \"we'd\",\n",
       " \"we'll\",\n",
       " \"we're\",\n",
       " 'were',\n",
       " 'weren',\n",
       " \"weren't\",\n",
       " \"we've\",\n",
       " 'what',\n",
       " 'when',\n",
       " 'where',\n",
       " 'which',\n",
       " 'while',\n",
       " 'who',\n",
       " 'whom',\n",
       " 'why',\n",
       " 'will',\n",
       " 'with',\n",
       " 'won',\n",
       " \"won't\",\n",
       " 'wouldn',\n",
       " \"wouldn't\",\n",
       " 'y',\n",
       " 'you',\n",
       " \"you'd\",\n",
       " \"you'll\",\n",
       " 'your',\n",
       " \"you're\",\n",
       " 'yours',\n",
       " 'yourself',\n",
       " 'yourselves',\n",
       " \"you've\"]"
      ]
     },
     "execution_count": 13,
     "metadata": {},
     "output_type": "execute_result"
    }
   ],
   "source": [
    "import nltk\n",
    "nltk.download('stopwords')\n",
    "from nltk.corpus import stopwords\n",
    "stopwords.words('english')"
   ]
  },
  {
   "cell_type": "code",
   "execution_count": 14,
   "id": "4a21982d",
   "metadata": {
    "execution": {
     "iopub.execute_input": "2025-05-03T13:03:54.191035Z",
     "iopub.status.busy": "2025-05-03T13:03:54.190815Z",
     "iopub.status.idle": "2025-05-03T13:03:54.194235Z",
     "shell.execute_reply": "2025-05-03T13:03:54.193546Z"
    },
    "papermill": {
     "duration": 0.011708,
     "end_time": "2025-05-03T13:03:54.195289",
     "exception": false,
     "start_time": "2025-05-03T13:03:54.183581",
     "status": "completed"
    },
    "tags": []
   },
   "outputs": [],
   "source": [
    "from nltk.stem.porter import PorterStemmer\n",
    "import string\n",
    "ps = PorterStemmer()"
   ]
  },
  {
   "cell_type": "code",
   "execution_count": 15,
   "id": "155dd010",
   "metadata": {
    "execution": {
     "iopub.execute_input": "2025-05-03T13:03:54.208728Z",
     "iopub.status.busy": "2025-05-03T13:03:54.208214Z",
     "iopub.status.idle": "2025-05-03T13:03:54.212922Z",
     "shell.execute_reply": "2025-05-03T13:03:54.212236Z"
    },
    "papermill": {
     "duration": 0.012398,
     "end_time": "2025-05-03T13:03:54.213899",
     "exception": false,
     "start_time": "2025-05-03T13:03:54.201501",
     "status": "completed"
    },
    "tags": []
   },
   "outputs": [],
   "source": [
    "def transform_text(text):\n",
    "    text = text.lower()\n",
    "    text = nltk.word_tokenize(text)\n",
    "\n",
    "    y = []\n",
    "    for i in text:\n",
    "        if i.isalnum():\n",
    "            y.append(i)\n",
    "\n",
    "    text = y[:]\n",
    "    y.clear()\n",
    "    for i in text:\n",
    "        if i not in stopwords.words('english') and i not in string.punctuation:\n",
    "            y.append(i)\n",
    "\n",
    "    text = y[:]\n",
    "    y.clear()\n",
    "    for i in text:\n",
    "        y.append(ps.stem(i))\n",
    "    return \" \".join(y)"
   ]
  },
  {
   "cell_type": "code",
   "execution_count": 16,
   "id": "052d4e85",
   "metadata": {
    "execution": {
     "iopub.execute_input": "2025-05-03T13:03:54.227362Z",
     "iopub.status.busy": "2025-05-03T13:03:54.226714Z",
     "iopub.status.idle": "2025-05-03T14:09:04.765091Z",
     "shell.execute_reply": "2025-05-03T14:09:04.764429Z"
    },
    "papermill": {
     "duration": 3910.546765,
     "end_time": "2025-05-03T14:09:04.766864",
     "exception": false,
     "start_time": "2025-05-03T13:03:54.220099",
     "status": "completed"
    },
    "tags": []
   },
   "outputs": [],
   "source": [
    "df['transformed_text'] = df['Text'].apply(transform_text)"
   ]
  },
  {
   "cell_type": "code",
   "execution_count": 17,
   "id": "bcd499b9",
   "metadata": {
    "execution": {
     "iopub.execute_input": "2025-05-03T14:09:04.781751Z",
     "iopub.status.busy": "2025-05-03T14:09:04.781520Z",
     "iopub.status.idle": "2025-05-03T14:09:04.790458Z",
     "shell.execute_reply": "2025-05-03T14:09:04.789732Z"
    },
    "papermill": {
     "duration": 0.017002,
     "end_time": "2025-05-03T14:09:04.791538",
     "exception": false,
     "start_time": "2025-05-03T14:09:04.774536",
     "status": "completed"
    },
    "tags": []
   },
   "outputs": [
    {
     "data": {
      "text/html": [
       "<div>\n",
       "<style scoped>\n",
       "    .dataframe tbody tr th:only-of-type {\n",
       "        vertical-align: middle;\n",
       "    }\n",
       "\n",
       "    .dataframe tbody tr th {\n",
       "        vertical-align: top;\n",
       "    }\n",
       "\n",
       "    .dataframe thead th {\n",
       "        text-align: right;\n",
       "    }\n",
       "</style>\n",
       "<table border=\"1\" class=\"dataframe\">\n",
       "  <thead>\n",
       "    <tr style=\"text-align: right;\">\n",
       "      <th></th>\n",
       "      <th>Score</th>\n",
       "      <th>Text</th>\n",
       "      <th>transformed_text</th>\n",
       "    </tr>\n",
       "  </thead>\n",
       "  <tbody>\n",
       "    <tr>\n",
       "      <th>0</th>\n",
       "      <td>Positive</td>\n",
       "      <td>I have bought several of the Vitality canned d...</td>\n",
       "      <td>bought sever vital can dog food product found ...</td>\n",
       "    </tr>\n",
       "    <tr>\n",
       "      <th>1</th>\n",
       "      <td>Negative</td>\n",
       "      <td>Product arrived labeled as Jumbo Salted Peanut...</td>\n",
       "      <td>product arriv label jumbo salt peanut peanut a...</td>\n",
       "    </tr>\n",
       "    <tr>\n",
       "      <th>2</th>\n",
       "      <td>Positive</td>\n",
       "      <td>This is a confection that has been around a fe...</td>\n",
       "      <td>confect around centuri light pillowi citru gel...</td>\n",
       "    </tr>\n",
       "    <tr>\n",
       "      <th>3</th>\n",
       "      <td>Negative</td>\n",
       "      <td>If you are looking for the secret ingredient i...</td>\n",
       "      <td>look secret ingredi robitussin believ found go...</td>\n",
       "    </tr>\n",
       "    <tr>\n",
       "      <th>4</th>\n",
       "      <td>Positive</td>\n",
       "      <td>Great taffy at a great price.  There was a wid...</td>\n",
       "      <td>great taffi great price wide assort yummi taff...</td>\n",
       "    </tr>\n",
       "    <tr>\n",
       "      <th>...</th>\n",
       "      <td>...</td>\n",
       "      <td>...</td>\n",
       "      <td>...</td>\n",
       "    </tr>\n",
       "    <tr>\n",
       "      <th>568449</th>\n",
       "      <td>Positive</td>\n",
       "      <td>Great for sesame chicken..this is a good if no...</td>\n",
       "      <td>great sesam chicken good better restur eaten h...</td>\n",
       "    </tr>\n",
       "    <tr>\n",
       "      <th>568450</th>\n",
       "      <td>Negative</td>\n",
       "      <td>I'm disappointed with the flavor. The chocolat...</td>\n",
       "      <td>disappoint flavor chocol note especi weak milk...</td>\n",
       "    </tr>\n",
       "    <tr>\n",
       "      <th>568451</th>\n",
       "      <td>Positive</td>\n",
       "      <td>These stars are small, so you can give 10-15 o...</td>\n",
       "      <td>star small give one train session tri train do...</td>\n",
       "    </tr>\n",
       "    <tr>\n",
       "      <th>568452</th>\n",
       "      <td>Positive</td>\n",
       "      <td>These are the BEST treats for training and rew...</td>\n",
       "      <td>best treat train reward dog good groom lower c...</td>\n",
       "    </tr>\n",
       "    <tr>\n",
       "      <th>568453</th>\n",
       "      <td>Positive</td>\n",
       "      <td>I am very satisfied ,product is as advertised,...</td>\n",
       "      <td>satisfi product advertis use cereal raw vinega...</td>\n",
       "    </tr>\n",
       "  </tbody>\n",
       "</table>\n",
       "<p>568454 rows × 3 columns</p>\n",
       "</div>"
      ],
      "text/plain": [
       "           Score                                               Text  \\\n",
       "0       Positive  I have bought several of the Vitality canned d...   \n",
       "1       Negative  Product arrived labeled as Jumbo Salted Peanut...   \n",
       "2       Positive  This is a confection that has been around a fe...   \n",
       "3       Negative  If you are looking for the secret ingredient i...   \n",
       "4       Positive  Great taffy at a great price.  There was a wid...   \n",
       "...          ...                                                ...   \n",
       "568449  Positive  Great for sesame chicken..this is a good if no...   \n",
       "568450  Negative  I'm disappointed with the flavor. The chocolat...   \n",
       "568451  Positive  These stars are small, so you can give 10-15 o...   \n",
       "568452  Positive  These are the BEST treats for training and rew...   \n",
       "568453  Positive  I am very satisfied ,product is as advertised,...   \n",
       "\n",
       "                                         transformed_text  \n",
       "0       bought sever vital can dog food product found ...  \n",
       "1       product arriv label jumbo salt peanut peanut a...  \n",
       "2       confect around centuri light pillowi citru gel...  \n",
       "3       look secret ingredi robitussin believ found go...  \n",
       "4       great taffi great price wide assort yummi taff...  \n",
       "...                                                   ...  \n",
       "568449  great sesam chicken good better restur eaten h...  \n",
       "568450  disappoint flavor chocol note especi weak milk...  \n",
       "568451  star small give one train session tri train do...  \n",
       "568452  best treat train reward dog good groom lower c...  \n",
       "568453  satisfi product advertis use cereal raw vinega...  \n",
       "\n",
       "[568454 rows x 3 columns]"
      ]
     },
     "execution_count": 17,
     "metadata": {},
     "output_type": "execute_result"
    }
   ],
   "source": [
    "df"
   ]
  },
  {
   "cell_type": "code",
   "execution_count": 18,
   "id": "89dd4df1",
   "metadata": {
    "execution": {
     "iopub.execute_input": "2025-05-03T14:09:04.805196Z",
     "iopub.status.busy": "2025-05-03T14:09:04.804997Z",
     "iopub.status.idle": "2025-05-03T14:09:17.669638Z",
     "shell.execute_reply": "2025-05-03T14:09:17.668902Z"
    },
    "papermill": {
     "duration": 12.872892,
     "end_time": "2025-05-03T14:09:17.670932",
     "exception": false,
     "start_time": "2025-05-03T14:09:04.798040",
     "status": "completed"
    },
    "tags": []
   },
   "outputs": [],
   "source": [
    "from wordcloud import WordCloud\n",
    "wc = WordCloud(width=800,height=400,min_font_size=10,background_color='black')\n",
    "spam_wc = wc.generate(df[df['Score'] == 'Negative']['transformed_text'].str.cat(sep=\"\"))"
   ]
  },
  {
   "cell_type": "code",
   "execution_count": 19,
   "id": "855cac54",
   "metadata": {
    "execution": {
     "iopub.execute_input": "2025-05-03T14:09:17.685695Z",
     "iopub.status.busy": "2025-05-03T14:09:17.685277Z",
     "iopub.status.idle": "2025-05-03T14:09:18.080649Z",
     "shell.execute_reply": "2025-05-03T14:09:18.079942Z"
    },
    "papermill": {
     "duration": 0.405899,
     "end_time": "2025-05-03T14:09:18.083834",
     "exception": false,
     "start_time": "2025-05-03T14:09:17.677935",
     "status": "completed"
    },
    "tags": []
   },
   "outputs": [
    {
     "data": {
      "text/plain": [
       "<matplotlib.image.AxesImage at 0x7f0251b2d5d0>"
      ]
     },
     "execution_count": 19,
     "metadata": {},
     "output_type": "execute_result"
    },
    {
     "data": {
      "image/png": "[encoded data removed]",
      "text/plain": [
       "<Figure size 640x480 with 1 Axes>"
      ]
     },
     "metadata": {},
     "output_type": "display_data"
    }
   ],
   "source": [
    "plt.imshow(spam_wc)"
   ]
  },
  {
   "cell_type": "code",
   "execution_count": 20,
   "id": "06ce80db",
   "metadata": {
    "execution": {
     "iopub.execute_input": "2025-05-03T14:09:18.103861Z",
     "iopub.status.busy": "2025-05-03T14:09:18.103665Z",
     "iopub.status.idle": "2025-05-03T14:09:30.433975Z",
     "shell.execute_reply": "2025-05-03T14:09:30.433190Z"
    },
    "papermill": {
     "duration": 12.34155,
     "end_time": "2025-05-03T14:09:30.435348",
     "exception": false,
     "start_time": "2025-05-03T14:09:18.093798",
     "status": "completed"
    },
    "tags": []
   },
   "outputs": [
    {
     "name": "stderr",
     "output_type": "stream",
     "text": [
      "2025-05-03 14:09:19.557003: E external/local_xla/xla/stream_executor/cuda/cuda_fft.cc:477] Unable to register cuFFT factory: Attempting to register factory for plugin cuFFT when one has already been registered\n",
      "WARNING: All log messages before absl::InitializeLog() is called are written to STDERR\n",
      "E0000 00:00:1746281359.747282      19 cuda_dnn.cc:8310] Unable to register cuDNN factory: Attempting to register factory for plugin cuDNN when one has already been registered\n",
      "E0000 00:00:1746281359.800442      19 cuda_blas.cc:1418] Unable to register cuBLAS factory: Attempting to register factory for plugin cuBLAS when one has already been registered\n"
     ]
    }
   ],
   "source": [
    "import tensorflow as tf\n",
    "from tensorflow import keras\n",
    "from tensorflow.keras.layers import LSTM, Dense, Dropout, Embedding\n",
    "from tensorflow.keras.models import Sequential\n",
    "from tensorflow.keras.preprocessing.text import Tokenizer"
   ]
  },
  {
   "cell_type": "code",
   "execution_count": 21,
   "id": "a71a2015",
   "metadata": {
    "execution": {
     "iopub.execute_input": "2025-05-03T14:09:30.455210Z",
     "iopub.status.busy": "2025-05-03T14:09:30.454746Z",
     "iopub.status.idle": "2025-05-03T14:09:30.458680Z",
     "shell.execute_reply": "2025-05-03T14:09:30.458083Z"
    },
    "papermill": {
     "duration": 0.014854,
     "end_time": "2025-05-03T14:09:30.459793",
     "exception": false,
     "start_time": "2025-05-03T14:09:30.444939",
     "status": "completed"
    },
    "tags": []
   },
   "outputs": [],
   "source": [
    "X = df['transformed_text']\n",
    "y = df['Score']"
   ]
  },
  {
   "cell_type": "code",
   "execution_count": 22,
   "id": "3b007c38",
   "metadata": {
    "execution": {
     "iopub.execute_input": "2025-05-03T14:09:30.478284Z",
     "iopub.status.busy": "2025-05-03T14:09:30.478097Z",
     "iopub.status.idle": "2025-05-03T14:09:53.702902Z",
     "shell.execute_reply": "2025-05-03T14:09:53.702299Z"
    },
    "papermill": {
     "duration": 23.235487,
     "end_time": "2025-05-03T14:09:53.704131",
     "exception": false,
     "start_time": "2025-05-03T14:09:30.468644",
     "status": "completed"
    },
    "tags": []
   },
   "outputs": [],
   "source": [
    "tokenizer = Tokenizer(num_words = 5000, oov_token = '<OOV>')\n",
    "tokenizer.fit_on_texts(df['transformed_text'])\n",
    "sequences = tokenizer.texts_to_sequences(df['transformed_text'])"
   ]
  },
  {
   "cell_type": "code",
   "execution_count": 23,
   "id": "3b1cbbee",
   "metadata": {
    "execution": {
     "iopub.execute_input": "2025-05-03T14:09:53.723653Z",
     "iopub.status.busy": "2025-05-03T14:09:53.723414Z",
     "iopub.status.idle": "2025-05-03T14:09:56.705803Z",
     "shell.execute_reply": "2025-05-03T14:09:56.704910Z"
    },
    "papermill": {
     "duration": 2.993402,
     "end_time": "2025-05-03T14:09:56.707206",
     "exception": false,
     "start_time": "2025-05-03T14:09:53.713804",
     "status": "completed"
    },
    "tags": []
   },
   "outputs": [],
   "source": [
    "from tensorflow.keras.preprocessing.sequence import pad_sequences\n",
    "\n",
    "max_length = max(len(x) for x in sequences)\n",
    "paded_sequences = pad_sequences(sequences, maxlen = max_length, padding='post')"
   ]
  },
  {
   "cell_type": "code",
   "execution_count": 24,
   "id": "dbe94f8c",
   "metadata": {
    "execution": {
     "iopub.execute_input": "2025-05-03T14:09:56.726780Z",
     "iopub.status.busy": "2025-05-03T14:09:56.726538Z",
     "iopub.status.idle": "2025-05-03T14:09:56.838559Z",
     "shell.execute_reply": "2025-05-03T14:09:56.837894Z"
    },
    "papermill": {
     "duration": 0.122973,
     "end_time": "2025-05-03T14:09:56.839893",
     "exception": false,
     "start_time": "2025-05-03T14:09:56.716920",
     "status": "completed"
    },
    "tags": []
   },
   "outputs": [],
   "source": [
    "from tensorflow.keras.utils import to_categorical\n",
    "from sklearn.preprocessing import LabelEncoder\n",
    "\n",
    "label_encoder = LabelEncoder()\n",
    "labels = label_encoder.fit_transform(df['Score'])\n",
    "labels_categorical = to_categorical(labels)"
   ]
  },
  {
   "cell_type": "code",
   "execution_count": 25,
   "id": "c0be8877",
   "metadata": {
    "execution": {
     "iopub.execute_input": "2025-05-03T14:09:56.859287Z",
     "iopub.status.busy": "2025-05-03T14:09:56.859066Z",
     "iopub.status.idle": "2025-05-03T14:09:59.324890Z",
     "shell.execute_reply": "2025-05-03T14:09:59.324302Z"
    },
    "papermill": {
     "duration": 2.476792,
     "end_time": "2025-05-03T14:09:59.326094",
     "exception": false,
     "start_time": "2025-05-03T14:09:56.849302",
     "status": "completed"
    },
    "tags": []
   },
   "outputs": [
    {
     "name": "stderr",
     "output_type": "stream",
     "text": [
      "I0000 00:00:1746281398.035546      19 gpu_device.cc:2022] Created device /job:localhost/replica:0/task:0/device:GPU:0 with 15513 MB memory:  -> device: 0, name: Tesla P100-PCIE-16GB, pci bus id: 0000:00:04.0, compute capability: 6.0\n"
     ]
    }
   ],
   "source": [
    "from tensorflow.keras.layers import Input\n",
    "input_layer = Input(shape=(max_length,))\n",
    "embedding = Embedding(input_dim= 5000,output_dim=64)(input_layer)\n",
    "lstm_layer = LSTM(64)(embedding)\n",
    "output = Dense(len(label_encoder.classes_),activation='softmax',name='output')(lstm_layer)"
   ]
  },
  {
   "cell_type": "code",
   "execution_count": 26,
   "id": "499696cd",
   "metadata": {
    "execution": {
     "iopub.execute_input": "2025-05-03T14:09:59.346978Z",
     "iopub.status.busy": "2025-05-03T14:09:59.346752Z",
     "iopub.status.idle": "2025-05-03T14:09:59.371212Z",
     "shell.execute_reply": "2025-05-03T14:09:59.370660Z"
    },
    "papermill": {
     "duration": 0.036323,
     "end_time": "2025-05-03T14:09:59.372259",
     "exception": false,
     "start_time": "2025-05-03T14:09:59.335936",
     "status": "completed"
    },
    "tags": []
   },
   "outputs": [
    {
     "data": {
      "text/html": [
       "<pre style=\"white-space:pre;overflow-x:auto;line-height:normal;font-family:Menlo,'DejaVu Sans Mono',consolas,'Courier New',monospace\"><span style=\"font-weight: bold\">Model: \"functional\"</span>\n",
       "</pre>\n"
      ],
      "text/plain": [
       "\u001b[1mModel: \"functional\"\u001b[0m\n"
      ]
     },
     "metadata": {},
     "output_type": "display_data"
    },
    {
     "data": {
      "text/html": [
       "<pre style=\"white-space:pre;overflow-x:auto;line-height:normal;font-family:Menlo,'DejaVu Sans Mono',consolas,'Courier New',monospace\">┏━━━━━━━━━━━━━━━━━━━━━━━━━━━━━━━━━━━━━━┳━━━━━━━━━━━━━━━━━━━━━━━━━━━━━┳━━━━━━━━━━━━━━━━━┓\n",
       "┃<span style=\"font-weight: bold\"> Layer (type)                         </span>┃<span style=\"font-weight: bold\"> Output Shape                </span>┃<span style=\"font-weight: bold\">         Param # </span>┃\n",
       "┡━━━━━━━━━━━━━━━━━━━━━━━━━━━━━━━━━━━━━━╇━━━━━━━━━━━━━━━━━━━━━━━━━━━━━╇━━━━━━━━━━━━━━━━━┩\n",
       "│ input_layer (<span style=\"color: #0087ff; text-decoration-color: #0087ff\">InputLayer</span>)             │ (<span style=\"color: #00d7ff; text-decoration-color: #00d7ff\">None</span>, <span style=\"color: #00af00; text-decoration-color: #00af00\">1935</span>)                │               <span style=\"color: #00af00; text-decoration-color: #00af00\">0</span> │\n",
       "├──────────────────────────────────────┼─────────────────────────────┼─────────────────┤\n",
       "│ embedding (<span style=\"color: #0087ff; text-decoration-color: #0087ff\">Embedding</span>)                │ (<span style=\"color: #00d7ff; text-decoration-color: #00d7ff\">None</span>, <span style=\"color: #00af00; text-decoration-color: #00af00\">1935</span>, <span style=\"color: #00af00; text-decoration-color: #00af00\">64</span>)            │         <span style=\"color: #00af00; text-decoration-color: #00af00\">320,000</span> │\n",
       "├──────────────────────────────────────┼─────────────────────────────┼─────────────────┤\n",
       "│ lstm (<span style=\"color: #0087ff; text-decoration-color: #0087ff\">LSTM</span>)                          │ (<span style=\"color: #00d7ff; text-decoration-color: #00d7ff\">None</span>, <span style=\"color: #00af00; text-decoration-color: #00af00\">64</span>)                  │          <span style=\"color: #00af00; text-decoration-color: #00af00\">33,024</span> │\n",
       "├──────────────────────────────────────┼─────────────────────────────┼─────────────────┤\n",
       "│ output (<span style=\"color: #0087ff; text-decoration-color: #0087ff\">Dense</span>)                       │ (<span style=\"color: #00d7ff; text-decoration-color: #00d7ff\">None</span>, <span style=\"color: #00af00; text-decoration-color: #00af00\">3</span>)                   │             <span style=\"color: #00af00; text-decoration-color: #00af00\">195</span> │\n",
       "└──────────────────────────────────────┴─────────────────────────────┴─────────────────┘\n",
       "</pre>\n"
      ],
      "text/plain": [
       "┏━━━━━━━━━━━━━━━━━━━━━━━━━━━━━━━━━━━━━━┳━━━━━━━━━━━━━━━━━━━━━━━━━━━━━┳━━━━━━━━━━━━━━━━━┓\n",
       "┃\u001b[1m \u001b[0m\u001b[1mLayer (type)                        \u001b[0m\u001b[1m \u001b[0m┃\u001b[1m \u001b[0m\u001b[1mOutput Shape               \u001b[0m\u001b[1m \u001b[0m┃\u001b[1m \u001b[0m\u001b[1m        Param #\u001b[0m\u001b[1m \u001b[0m┃\n",
       "┡━━━━━━━━━━━━━━━━━━━━━━━━━━━━━━━━━━━━━━╇━━━━━━━━━━━━━━━━━━━━━━━━━━━━━╇━━━━━━━━━━━━━━━━━┩\n",
       "│ input_layer (\u001b[38;5;33mInputLayer\u001b[0m)             │ (\u001b[38;5;45mNone\u001b[0m, \u001b[38;5;34m1935\u001b[0m)                │               \u001b[38;5;34m0\u001b[0m │\n",
       "├──────────────────────────────────────┼─────────────────────────────┼─────────────────┤\n",
       "│ embedding (\u001b[38;5;33mEmbedding\u001b[0m)                │ (\u001b[38;5;45mNone\u001b[0m, \u001b[38;5;34m1935\u001b[0m, \u001b[38;5;34m64\u001b[0m)            │         \u001b[38;5;34m320,000\u001b[0m │\n",
       "├──────────────────────────────────────┼─────────────────────────────┼─────────────────┤\n",
       "│ lstm (\u001b[38;5;33mLSTM\u001b[0m)                          │ (\u001b[38;5;45mNone\u001b[0m, \u001b[38;5;34m64\u001b[0m)                  │          \u001b[38;5;34m33,024\u001b[0m │\n",
       "├──────────────────────────────────────┼─────────────────────────────┼─────────────────┤\n",
       "│ output (\u001b[38;5;33mDense\u001b[0m)                       │ (\u001b[38;5;45mNone\u001b[0m, \u001b[38;5;34m3\u001b[0m)                   │             \u001b[38;5;34m195\u001b[0m │\n",
       "└──────────────────────────────────────┴─────────────────────────────┴─────────────────┘\n"
      ]
     },
     "metadata": {},
     "output_type": "display_data"
    },
    {
     "data": {
      "text/html": [
       "<pre style=\"white-space:pre;overflow-x:auto;line-height:normal;font-family:Menlo,'DejaVu Sans Mono',consolas,'Courier New',monospace\"><span style=\"font-weight: bold\"> Total params: </span><span style=\"color: #00af00; text-decoration-color: #00af00\">353,219</span> (1.35 MB)\n",
       "</pre>\n"
      ],
      "text/plain": [
       "\u001b[1m Total params: \u001b[0m\u001b[38;5;34m353,219\u001b[0m (1.35 MB)\n"
      ]
     },
     "metadata": {},
     "output_type": "display_data"
    },
    {
     "data": {
      "text/html": [
       "<pre style=\"white-space:pre;overflow-x:auto;line-height:normal;font-family:Menlo,'DejaVu Sans Mono',consolas,'Courier New',monospace\"><span style=\"font-weight: bold\"> Trainable params: </span><span style=\"color: #00af00; text-decoration-color: #00af00\">353,219</span> (1.35 MB)\n",
       "</pre>\n"
      ],
      "text/plain": [
       "\u001b[1m Trainable params: \u001b[0m\u001b[38;5;34m353,219\u001b[0m (1.35 MB)\n"
      ]
     },
     "metadata": {},
     "output_type": "display_data"
    },
    {
     "data": {
      "text/html": [
       "<pre style=\"white-space:pre;overflow-x:auto;line-height:normal;font-family:Menlo,'DejaVu Sans Mono',consolas,'Courier New',monospace\"><span style=\"font-weight: bold\"> Non-trainable params: </span><span style=\"color: #00af00; text-decoration-color: #00af00\">0</span> (0.00 B)\n",
       "</pre>\n"
      ],
      "text/plain": [
       "\u001b[1m Non-trainable params: \u001b[0m\u001b[38;5;34m0\u001b[0m (0.00 B)\n"
      ]
     },
     "metadata": {},
     "output_type": "display_data"
    }
   ],
   "source": [
    "from tensorflow.keras.models import Model\n",
    "amazon_reviews = Model(inputs=input_layer,outputs=output)\n",
    "amazon_reviews.compile(\n",
    "    loss = {'output': 'categorical_crossentropy'},\n",
    "    optimizer = 'adam',\n",
    "    metrics = {'output':['accuracy']}\n",
    ")\n",
    "amazon_reviews.summary()"
   ]
  },
  {
   "cell_type": "code",
   "execution_count": 27,
   "id": "cabd5fe7",
   "metadata": {
    "execution": {
     "iopub.execute_input": "2025-05-03T14:09:59.393111Z",
     "iopub.status.busy": "2025-05-03T14:09:59.392901Z",
     "iopub.status.idle": "2025-05-03T14:56:14.240837Z",
     "shell.execute_reply": "2025-05-03T14:56:14.240044Z"
    },
    "papermill": {
     "duration": 2774.859896,
     "end_time": "2025-05-03T14:56:14.242348",
     "exception": false,
     "start_time": "2025-05-03T14:09:59.382452",
     "status": "completed"
    },
    "tags": []
   },
   "outputs": [
    {
     "name": "stdout",
     "output_type": "stream",
     "text": [
      "Epoch 1/10\n"
     ]
    },
    {
     "name": "stderr",
     "output_type": "stream",
     "text": [
      "I0000 00:00:1746281407.455746      61 cuda_dnn.cc:529] Loaded cuDNN version 90300\n"
     ]
    },
    {
     "name": "stdout",
     "output_type": "stream",
     "text": [
      "\u001b[1m1111/1111\u001b[0m \u001b[32m━━━━━━━━━━━━━━━━━━━━\u001b[0m\u001b[37m\u001b[0m \u001b[1m280s\u001b[0m 249ms/step - accuracy: 0.7758 - loss: 0.6761\n",
      "Epoch 2/10\n",
      "\u001b[1m1111/1111\u001b[0m \u001b[32m━━━━━━━━━━━━━━━━━━━━\u001b[0m\u001b[37m\u001b[0m \u001b[1m277s\u001b[0m 249ms/step - accuracy: 0.7808 - loss: 0.6668\n",
      "Epoch 3/10\n",
      "\u001b[1m1111/1111\u001b[0m \u001b[32m━━━━━━━━━━━━━━━━━━━━\u001b[0m\u001b[37m\u001b[0m \u001b[1m277s\u001b[0m 249ms/step - accuracy: 0.7805 - loss: 0.6675\n",
      "Epoch 4/10\n",
      "\u001b[1m1111/1111\u001b[0m \u001b[32m━━━━━━━━━━━━━━━━━━━━\u001b[0m\u001b[37m\u001b[0m \u001b[1m277s\u001b[0m 249ms/step - accuracy: 0.7818 - loss: 0.6650\n",
      "Epoch 5/10\n",
      "\u001b[1m1111/1111\u001b[0m \u001b[32m━━━━━━━━━━━━━━━━━━━━\u001b[0m\u001b[37m\u001b[0m \u001b[1m277s\u001b[0m 249ms/step - accuracy: 0.7799 - loss: 0.6685\n",
      "Epoch 6/10\n",
      "\u001b[1m1111/1111\u001b[0m \u001b[32m━━━━━━━━━━━━━━━━━━━━\u001b[0m\u001b[37m\u001b[0m \u001b[1m277s\u001b[0m 249ms/step - accuracy: 0.7814 - loss: 0.6655\n",
      "Epoch 7/10\n",
      "\u001b[1m1111/1111\u001b[0m \u001b[32m━━━━━━━━━━━━━━━━━━━━\u001b[0m\u001b[37m\u001b[0m \u001b[1m276s\u001b[0m 249ms/step - accuracy: 0.7808 - loss: 0.6669\n",
      "Epoch 8/10\n",
      "\u001b[1m1111/1111\u001b[0m \u001b[32m━━━━━━━━━━━━━━━━━━━━\u001b[0m\u001b[37m\u001b[0m \u001b[1m277s\u001b[0m 249ms/step - accuracy: 0.7810 - loss: 0.6664\n",
      "Epoch 9/10\n",
      "\u001b[1m1111/1111\u001b[0m \u001b[32m━━━━━━━━━━━━━━━━━━━━\u001b[0m\u001b[37m\u001b[0m \u001b[1m277s\u001b[0m 249ms/step - accuracy: 0.7808 - loss: 0.6667\n",
      "Epoch 10/10\n",
      "\u001b[1m1111/1111\u001b[0m \u001b[32m━━━━━━━━━━━━━━━━━━━━\u001b[0m\u001b[37m\u001b[0m \u001b[1m277s\u001b[0m 249ms/step - accuracy: 0.7802 - loss: 0.6679\n"
     ]
    }
   ],
   "source": [
    "history = amazon_reviews.fit(paded_sequences,labels_categorical,epochs=10,batch_size=512)"
   ]
  },
  {
   "cell_type": "code",
   "execution_count": 28,
   "id": "08b9bd8a",
   "metadata": {
    "execution": {
     "iopub.execute_input": "2025-05-03T14:56:15.264337Z",
     "iopub.status.busy": "2025-05-03T14:56:15.263626Z",
     "iopub.status.idle": "2025-05-03T14:56:18.123986Z",
     "shell.execute_reply": "2025-05-03T14:56:18.123419Z"
    },
    "papermill": {
     "duration": 3.335907,
     "end_time": "2025-05-03T14:56:18.125295",
     "exception": false,
     "start_time": "2025-05-03T14:56:14.789388",
     "status": "completed"
    },
    "tags": []
   },
   "outputs": [],
   "source": [
    "X_final = np.array(paded_sequences)\n",
    "y_final = np.array(labels_categorical)\n",
    "from sklearn.model_selection import train_test_split\n",
    "X_train, X_test, y_train, y_test = train_test_split(X_final,y_final,test_size=0.2,random_state=42)"
   ]
  },
  {
   "cell_type": "code",
   "execution_count": 29,
   "id": "8034d9d8",
   "metadata": {
    "execution": {
     "iopub.execute_input": "2025-05-03T14:56:19.107959Z",
     "iopub.status.busy": "2025-05-03T14:56:19.107675Z",
     "iopub.status.idle": "2025-05-03T14:58:20.995328Z",
     "shell.execute_reply": "2025-05-03T14:58:20.994568Z"
    },
    "papermill": {
     "duration": 122.410336,
     "end_time": "2025-05-03T14:58:20.996843",
     "exception": false,
     "start_time": "2025-05-03T14:56:18.586507",
     "status": "completed"
    },
    "tags": []
   },
   "outputs": [
    {
     "name": "stdout",
     "output_type": "stream",
     "text": [
      "\u001b[1m3553/3553\u001b[0m \u001b[32m━━━━━━━━━━━━━━━━━━━━\u001b[0m\u001b[37m\u001b[0m \u001b[1m119s\u001b[0m 33ms/step\n"
     ]
    }
   ],
   "source": [
    "y_pred = amazon_reviews.predict(X_test)"
   ]
  },
  {
   "cell_type": "code",
   "execution_count": 30,
   "id": "e8cf02f6",
   "metadata": {
    "execution": {
     "iopub.execute_input": "2025-05-03T14:58:22.205224Z",
     "iopub.status.busy": "2025-05-03T14:58:22.204962Z",
     "iopub.status.idle": "2025-05-03T14:58:40.220747Z",
     "shell.execute_reply": "2025-05-03T14:58:40.220126Z"
    },
    "papermill": {
     "duration": 18.679742,
     "end_time": "2025-05-03T14:58:40.222156",
     "exception": false,
     "start_time": "2025-05-03T14:58:21.542414",
     "status": "completed"
    },
    "tags": []
   },
   "outputs": [],
   "source": [
    "index_pred = np.argmax(y_pred, axis=1)\n",
    "index_test = np.argmax(y_test, axis=1)\n",
    "label_pred = [label_encoder.inverse_transform([index_pred[i]])[0] for i in range(len(index_pred))]\n",
    "label_test = [label_encoder.inverse_transform([index_test[i]])[0] for i in range(len(index_test))]"
   ]
  },
  {
   "cell_type": "code",
   "execution_count": 31,
   "id": "82e26f62",
   "metadata": {
    "execution": {
     "iopub.execute_input": "2025-05-03T14:58:41.299310Z",
     "iopub.status.busy": "2025-05-03T14:58:41.298451Z",
     "iopub.status.idle": "2025-05-03T14:58:42.809735Z",
     "shell.execute_reply": "2025-05-03T14:58:42.808715Z"
    },
    "papermill": {
     "duration": 2.043831,
     "end_time": "2025-05-03T14:58:42.810866",
     "exception": false,
     "start_time": "2025-05-03T14:58:40.767035",
     "status": "completed"
    },
    "tags": []
   },
   "outputs": [
    {
     "name": "stdout",
     "output_type": "stream",
     "text": [
      "Accuracy Score: 0.7830435126791039\n",
      "Classification report:\n",
      "               precision    recall  f1-score   support\n",
      "\n",
      "    Negative       0.00      0.00      0.00     16181\n",
      "     Neutral       0.00      0.00      0.00      8485\n",
      "    Positive       0.78      1.00      0.88     89025\n",
      "\n",
      "    accuracy                           0.78    113691\n",
      "   macro avg       0.26      0.33      0.29    113691\n",
      "weighted avg       0.61      0.78      0.69    113691\n",
      "\n"
     ]
    }
   ],
   "source": [
    "from sklearn.metrics import confusion_matrix, classification_report, accuracy_score\n",
    "confusion_matrix = confusion_matrix(label_test, label_pred, labels=label_encoder.classes_)\n",
    "print('Accuracy Score:', accuracy_score(label_test,label_pred))\n",
    "print('Classification report:\\n', classification_report(label_test,label_pred))"
   ]
  },
  {
   "cell_type": "code",
   "execution_count": 32,
   "id": "e02a3fae",
   "metadata": {
    "execution": {
     "iopub.execute_input": "2025-05-03T14:58:43.941691Z",
     "iopub.status.busy": "2025-05-03T14:58:43.941412Z",
     "iopub.status.idle": "2025-05-03T14:58:43.981655Z",
     "shell.execute_reply": "2025-05-03T14:58:43.980568Z"
    },
    "papermill": {
     "duration": 0.575311,
     "end_time": "2025-05-03T14:58:43.983330",
     "exception": false,
     "start_time": "2025-05-03T14:58:43.408019",
     "status": "completed"
    },
    "tags": []
   },
   "outputs": [],
   "source": [
    "amazon_reviews.save('amazon_reviews.h5')"
   ]
  },
  {
   "cell_type": "code",
   "execution_count": 33,
   "id": "6a65ac03",
   "metadata": {
    "execution": {
     "iopub.execute_input": "2025-05-03T14:58:45.136231Z",
     "iopub.status.busy": "2025-05-03T14:58:45.135953Z",
     "iopub.status.idle": "2025-05-03T14:58:45.182532Z",
     "shell.execute_reply": "2025-05-03T14:58:45.181855Z"
    },
    "papermill": {
     "duration": 0.580264,
     "end_time": "2025-05-03T14:58:45.183600",
     "exception": false,
     "start_time": "2025-05-03T14:58:44.603336",
     "status": "completed"
    },
    "tags": []
   },
   "outputs": [
    {
     "data": {
      "text/html": [
       "<a href='amazon_reviews.h5' target='_blank'>amazon_reviews.h5</a><br>"
      ],
      "text/plain": [
       "/kaggle/working/amazon_reviews.h5"
      ]
     },
     "execution_count": 33,
     "metadata": {},
     "output_type": "execute_result"
    }
   ],
   "source": [
    "import pickle\n",
    "import IPython.display\n",
    "from IPython.display import FileLink\n",
    "pickle.dump(amazon_reviews,open('amazon_reviews.pkl','wb'))\n",
    "FileLink('amazon_reviews.h5')"
   ]
  },
  {
   "cell_type": "code",
   "execution_count": 34,
   "id": "02463bd0",
   "metadata": {
    "execution": {
     "iopub.execute_input": "2025-05-03T14:58:46.307713Z",
     "iopub.status.busy": "2025-05-03T14:58:46.307013Z",
     "iopub.status.idle": "2025-05-03T14:58:46.397723Z",
     "shell.execute_reply": "2025-05-03T14:58:46.397162Z"
    },
    "papermill": {
     "duration": 0.623113,
     "end_time": "2025-05-03T14:58:46.398955",
     "exception": false,
     "start_time": "2025-05-03T14:58:45.775842",
     "status": "completed"
    },
    "tags": []
   },
   "outputs": [],
   "source": [
    "from sklearn.preprocessing import LabelEncoder\n",
    "le = LabelEncoder()\n",
    "df['Score_Labels'] = le.fit_transform(df['Score'])"
   ]
  },
  {
   "cell_type": "code",
   "execution_count": 35,
   "id": "a9b4a321",
   "metadata": {
    "execution": {
     "iopub.execute_input": "2025-05-03T14:58:47.521526Z",
     "iopub.status.busy": "2025-05-03T14:58:47.520764Z"
    },
    "papermill": {
     "duration": 26.69651,
     "end_time": "2025-05-03T14:59:13.621897",
     "exception": false,
     "start_time": "2025-05-03T14:58:46.925387",
     "status": "completed"
    },
    "tags": []
   },
   "outputs": [],
   "source": [
    "from sklearn.feature_extraction.text import CountVectorizer\n",
    "cv = CountVectorizer()\n",
    "X = cv.fit_transform(df['transformed_text']).toarray()\n",
    "y = df['Score_labels'].values"
   ]
  },
  {
   "cell_type": "code",
   "execution_count": null,
   "id": "8d6d3fe0",
   "metadata": {
    "papermill": {
     "duration": null,
     "end_time": null,
     "exception": null,
     "start_time": null,
     "status": "completed"
    },
    "tags": []
   },
   "outputs": [],
   "source": [
    "from sklearn.model_selection import train_test_split\n",
    "X_train, X_test, y_train, y_test = train_test_split(X,y,test_size=0.2,random_state=42)"
   ]
  },
  {
   "cell_type": "code",
   "execution_count": null,
   "id": "98d69514",
   "metadata": {
    "papermill": {
     "duration": null,
     "end_time": null,
     "exception": null,
     "start_time": null,
     "status": "completed"
    },
    "tags": []
   },
   "outputs": [],
   "source": [
    "from sklearn.naive_bayes import MultinomialNB\n",
    "M = MultinomialNB()\n",
    "M.fit(X_train,y_train)"
   ]
  },
  {
   "cell_type": "code",
   "execution_count": null,
   "id": "59c2d7cd",
   "metadata": {
    "papermill": {
     "duration": null,
     "end_time": null,
     "exception": null,
     "start_time": null,
     "status": "completed"
    },
    "tags": []
   },
   "outputs": [],
   "source": [
    "pred = M.predict(X_test)"
   ]
  },
  {
   "cell_type": "code",
   "execution_count": null,
   "id": "e898ea0a",
   "metadata": {
    "papermill": {
     "duration": null,
     "end_time": null,
     "exception": null,
     "start_time": null,
     "status": "completed"
    },
    "tags": []
   },
   "outputs": [],
   "source": [
    "from sklearn.metrics import confusion_matrix, classification_report, accuracy_score\n",
    "print(classification_report(y_test,pred))"
   ]
  },
  {
   "cell_type": "code",
   "execution_count": null,
   "id": "f5b41355",
   "metadata": {
    "papermill": {
     "duration": null,
     "end_time": null,
     "exception": null,
     "start_time": null,
     "status": "completed"
    },
    "tags": []
   },
   "outputs": [],
   "source": [
    "print(confudion_matrix(y_test,pred))"
   ]
  }
 ],
 "metadata": {
  "kaggle": {
   "accelerator": "gpu",
   "dataSources": [
    {
     "datasetId": 18,
     "sourceId": 2157,
     "sourceType": "datasetVersion"
    }
   ],
   "dockerImageVersionId": 31012,
   "isGpuEnabled": true,
   "isInternetEnabled": true,
   "language": "python",
   "sourceType": "notebook"
  },
  "kernelspec": {
   "display_name": "Python 3",
   "language": "python",
   "name": "python3"
  },
  "language_info": {
   "codemirror_mode": {
    "name": "ipython",
    "version": 3
   },
   "file_extension": ".py",
   "mimetype": "text/x-python",
   "name": "python",
   "nbconvert_exporter": "python",
   "pygments_lexer": "ipython3",
   "version": "3.11.11"
  },
  "papermill": {
   "default_parameters": {},
   "duration": 6937.375543,
   "end_time": "2025-05-03T14:59:15.245431",
   "environment_variables": {},
   "exception": null,
   "input_path": "__notebook__.ipynb",
   "output_path": "__notebook__.ipynb",
   "parameters": {},
   "start_time": "2025-05-03T13:03:37.869888",
   "version": "2.6.0"
  }
 },
 "nbformat": 4,
 "nbformat_minor": 5
}
